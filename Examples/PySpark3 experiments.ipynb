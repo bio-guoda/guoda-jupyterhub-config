{
 "cells": [
  {
   "cell_type": "markdown",
   "metadata": {
    "collapsed": true
   },
   "source": [
    "# Getting Started with PySpark\n",
    "\n",
    "This is some very basic examples that verify the PySpark environment is working and does some basic operations. We recommend checking out the README notebook in this directory first.\n",
    "\n",
    "For more information about spark see the [quick-start](https://spark.apache.org/docs/latest/quick-start.html) and the [Spark Programming Guide](https://spark.apache.org/docs/latest/programming-guide.html). You are already in the spark shell with the spark context availble in the `sc` variable."
   ]
  },
  {
   "cell_type": "code",
   "execution_count": 2,
   "metadata": {
    "collapsed": false
   },
   "outputs": [
    {
     "data": {
      "text/plain": [
       "<pyspark.context.SparkContext at 0x7f5c1cb17208>"
      ]
     },
     "execution_count": 2,
     "metadata": {},
     "output_type": "execute_result"
    }
   ],
   "source": [
    "sc"
   ]
  },
  {
   "cell_type": "code",
   "execution_count": 3,
   "metadata": {
    "collapsed": true
   },
   "outputs": [],
   "source": [
    "# import our favorite libraries\n",
    "import idigbio\n",
    "import pandas\n",
    "import matplotlib"
   ]
  },
  {
   "cell_type": "code",
   "execution_count": 12,
   "metadata": {
    "collapsed": false
   },
   "outputs": [
    {
     "data": {
      "text/plain": [
       "hdfs://hdfscluster/hdfs/data/taxon.txt MapPartitionsRDD[7] at textFile at NativeMethodAccessorImpl.java:-2"
      ]
     },
     "execution_count": 12,
     "metadata": {},
     "output_type": "execute_result"
    }
   ],
   "source": [
    "sc.textFile('hdfs://hdfscluster/hdfs/data/taxon.txt')"
   ]
  },
  {
   "cell_type": "code",
   "execution_count": 15,
   "metadata": {
    "collapsed": false
   },
   "outputs": [
    {
     "name": "stdout",
     "output_type": "stream",
     "text": [
      "CPU times: user 12 ms, sys: 0 ns, total: 12 ms\n",
      "Wall time: 9.43 s\n"
     ]
    },
    {
     "data": {
      "text/plain": [
       "5307978"
      ]
     },
     "execution_count": 15,
     "metadata": {},
     "output_type": "execute_result"
    }
   ],
   "source": [
    "# count the lines in the file, about the most basic op\n",
    "%time sc.textFile('hdfs://hdfscluster/hdfs/data/taxon.txt').count()"
   ]
  },
  {
   "cell_type": "code",
   "execution_count": 16,
   "metadata": {
    "collapsed": false
   },
   "outputs": [
    {
     "name": "stdout",
     "output_type": "stream",
     "text": [
      "CPU times: user 4 ms, sys: 4 ms, total: 8 ms\n",
      "Wall time: 38.7 s\n"
     ]
    }
   ],
   "source": [
    "%time guoda = spark.read.parquet(\"/guoda/data/gbif-idigbio.parquet\")"
   ]
  },
  {
   "cell_type": "code",
   "execution_count": 17,
   "metadata": {
    "collapsed": false
   },
   "outputs": [
    {
     "name": "stdout",
     "output_type": "stream",
     "text": [
      "CPU times: user 4 ms, sys: 0 ns, total: 4 ms\n",
      "Wall time: 252 ms\n"
     ]
    }
   ],
   "source": [
    "%time idigbio = guoda.filter(guoda[\"source\"]==\"idigbio\").filter(guoda[\"date\"]==\"20161003\")"
   ]
  },
  {
   "cell_type": "code",
   "execution_count": 18,
   "metadata": {
    "collapsed": false
   },
   "outputs": [
    {
     "name": "stdout",
     "output_type": "stream",
     "text": [
      "CPU times: user 4 ms, sys: 0 ns, total: 4 ms\n",
      "Wall time: 8.55 s\n"
     ]
    },
    {
     "data": {
      "text/plain": [
       "64606161"
      ]
     },
     "execution_count": 18,
     "metadata": {},
     "output_type": "execute_result"
    }
   ],
   "source": [
    "%time idigbio.count()"
   ]
  }
 ],
 "metadata": {
  "kernelspec": {
   "display_name": "PySpark (py3)",
   "language": "python",
   "name": "pyspark3"
  },
  "language_info": {
   "codemirror_mode": {
    "name": "ipython",
    "version": 3
   },
   "file_extension": ".py",
   "mimetype": "text/x-python",
   "name": "python",
   "nbconvert_exporter": "python",
   "pygments_lexer": "ipython3",
   "version": "3.5.2"
  }
 },
 "nbformat": 4,
 "nbformat_minor": 1
}
